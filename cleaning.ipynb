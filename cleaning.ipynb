{
 "cells": [
  {
   "cell_type": "markdown",
   "metadata": {},
   "source": [
    "# Project!\n",
    "## Business Question: \n",
    "### By David Shin and Khyatee Desai<br>Nov. 13, 2020"
   ]
  },
  {
   "cell_type": "code",
   "execution_count": 235,
   "metadata": {},
   "outputs": [],
   "source": [
    "from zipfile import ZipFile \n",
    "import pandas as pd\n",
    "import matplotlib.pyplot as plt\n",
    "import seaborn as sns\n",
    "import numpy as np\n",
    "import pickle \n",
    "from itertools import combinations\n",
    "from sklearn.feature_selection import RFECV\n",
    "from sklearn.linear_model import LogisticRegression\n",
    "from sklearn.neighbors import KNeighborsClassifier\n",
    "from sklearn.tree import DecisionTreeClassifier\n",
    "from sklearn.feature_selection import SelectKBest\n",
    "from sklearn.metrics import f1_score\n",
    "from sklearn.model_selection import train_test_split\n",
    "from sklearn.preprocessing import StandardScaler\n",
    "from sklearn.model_selection import GridSearchCV\n",
    "from sklearn.ensemble import RandomForestClassifier\n",
    "from sklearn.ensemble import BaggingClassifier\n",
    "from sklearn.ensemble import VotingClassifier\n",
    "from sklearn import set_config\n",
    "set_config(print_changed_only=False, display=None)\n",
    "pd.set_option('display.max_columns', None)\n",
    "%matplotlib inline\n",
    "import warnings\n",
    "warnings.filterwarnings('ignore')"
   ]
  },
  {
   "cell_type": "markdown",
   "metadata": {},
   "source": [
    "# Data Cleaning"
   ]
  },
  {
   "cell_type": "code",
   "execution_count": 217,
   "metadata": {},
   "outputs": [],
   "source": [
    "# extract relevant csv files from zipped folder\n",
    "with ZipFile(\"data/datasets.zip\") as z:\n",
    "    df = pd.read_csv(z.open(z.infolist()[0].filename))\n",
    "#     df_artist = pd.read_csv(z.open(z.infolist()[1].filename))\n",
    "#     df_avg_genre = pd.read_csv(z.open(z.infolist()[2].filename))\n",
    "#     df_yr = pd.read_csv(z.open(z.infolist()[3].filename))\n",
    "    df_genre = pd.read_csv(z.open(z.infolist()[4].filename))"
   ]
  },
  {
   "cell_type": "code",
   "execution_count": 218,
   "metadata": {},
   "outputs": [
    {
     "data": {
      "text/html": [
       "<div>\n",
       "<style scoped>\n",
       "    .dataframe tbody tr th:only-of-type {\n",
       "        vertical-align: middle;\n",
       "    }\n",
       "\n",
       "    .dataframe tbody tr th {\n",
       "        vertical-align: top;\n",
       "    }\n",
       "\n",
       "    .dataframe thead th {\n",
       "        text-align: right;\n",
       "    }\n",
       "</style>\n",
       "<table border=\"1\" class=\"dataframe\">\n",
       "  <thead>\n",
       "    <tr style=\"text-align: right;\">\n",
       "      <th></th>\n",
       "      <th>acousticness</th>\n",
       "      <th>artists</th>\n",
       "      <th>danceability</th>\n",
       "      <th>duration_ms</th>\n",
       "      <th>energy</th>\n",
       "      <th>explicit</th>\n",
       "      <th>id</th>\n",
       "      <th>instrumentalness</th>\n",
       "      <th>key</th>\n",
       "      <th>liveness</th>\n",
       "      <th>loudness</th>\n",
       "      <th>mode</th>\n",
       "      <th>name</th>\n",
       "      <th>popularity</th>\n",
       "      <th>release_date</th>\n",
       "      <th>speechiness</th>\n",
       "      <th>tempo</th>\n",
       "      <th>valence</th>\n",
       "      <th>year</th>\n",
       "    </tr>\n",
       "  </thead>\n",
       "  <tbody>\n",
       "    <tr>\n",
       "      <th>77244</th>\n",
       "      <td>0.0318</td>\n",
       "      <td>['Miguel']</td>\n",
       "      <td>0.551</td>\n",
       "      <td>197227</td>\n",
       "      <td>0.543</td>\n",
       "      <td>0</td>\n",
       "      <td>1OSkUAslVAljbEnG973Gfa</td>\n",
       "      <td>0.000078</td>\n",
       "      <td>2</td>\n",
       "      <td>0.285</td>\n",
       "      <td>-6.468</td>\n",
       "      <td>1</td>\n",
       "      <td>Arch &amp; Point</td>\n",
       "      <td>43</td>\n",
       "      <td>2012-09-28</td>\n",
       "      <td>0.0638</td>\n",
       "      <td>158.005</td>\n",
       "      <td>0.185</td>\n",
       "      <td>2012</td>\n",
       "    </tr>\n",
       "    <tr>\n",
       "      <th>7907</th>\n",
       "      <td>0.0524</td>\n",
       "      <td>['物語シリーズ']</td>\n",
       "      <td>0.814</td>\n",
       "      <td>255040</td>\n",
       "      <td>0.785</td>\n",
       "      <td>0</td>\n",
       "      <td>5P8lyudWE7HQxb4ludLbEm</td>\n",
       "      <td>0.001110</td>\n",
       "      <td>1</td>\n",
       "      <td>0.111</td>\n",
       "      <td>-5.679</td>\n",
       "      <td>0</td>\n",
       "      <td>Renai Circulation</td>\n",
       "      <td>68</td>\n",
       "      <td>2018-11-02</td>\n",
       "      <td>0.0396</td>\n",
       "      <td>120.009</td>\n",
       "      <td>0.941</td>\n",
       "      <td>2018</td>\n",
       "    </tr>\n",
       "    <tr>\n",
       "      <th>159798</th>\n",
       "      <td>0.5450</td>\n",
       "      <td>['Mos Def']</td>\n",
       "      <td>0.564</td>\n",
       "      <td>251213</td>\n",
       "      <td>0.532</td>\n",
       "      <td>0</td>\n",
       "      <td>3ewIu3AibUiSiDNS0Ta8Lm</td>\n",
       "      <td>0.001260</td>\n",
       "      <td>11</td>\n",
       "      <td>0.238</td>\n",
       "      <td>-7.228</td>\n",
       "      <td>1</td>\n",
       "      <td>The Panties</td>\n",
       "      <td>47</td>\n",
       "      <td>2004-10-12</td>\n",
       "      <td>0.0391</td>\n",
       "      <td>85.118</td>\n",
       "      <td>0.182</td>\n",
       "      <td>2004</td>\n",
       "    </tr>\n",
       "  </tbody>\n",
       "</table>\n",
       "</div>"
      ],
      "text/plain": [
       "        acousticness      artists  danceability  duration_ms  energy  \\\n",
       "77244         0.0318   ['Miguel']         0.551       197227   0.543   \n",
       "7907          0.0524   ['物語シリーズ']         0.814       255040   0.785   \n",
       "159798        0.5450  ['Mos Def']         0.564       251213   0.532   \n",
       "\n",
       "        explicit                      id  instrumentalness  key  liveness  \\\n",
       "77244          0  1OSkUAslVAljbEnG973Gfa          0.000078    2     0.285   \n",
       "7907           0  5P8lyudWE7HQxb4ludLbEm          0.001110    1     0.111   \n",
       "159798         0  3ewIu3AibUiSiDNS0Ta8Lm          0.001260   11     0.238   \n",
       "\n",
       "        loudness  mode               name  popularity release_date  \\\n",
       "77244     -6.468     1       Arch & Point          43   2012-09-28   \n",
       "7907      -5.679     0  Renai Circulation          68   2018-11-02   \n",
       "159798    -7.228     1        The Panties          47   2004-10-12   \n",
       "\n",
       "        speechiness    tempo  valence  year  \n",
       "77244        0.0638  158.005    0.185  2012  \n",
       "7907         0.0396  120.009    0.941  2018  \n",
       "159798       0.0391   85.118    0.182  2004  "
      ]
     },
     "execution_count": 218,
     "metadata": {},
     "output_type": "execute_result"
    }
   ],
   "source": [
    "df.sample(3)"
   ]
  },
  {
   "cell_type": "code",
   "execution_count": 219,
   "metadata": {},
   "outputs": [
    {
     "data": {
      "text/html": [
       "<div>\n",
       "<style scoped>\n",
       "    .dataframe tbody tr th:only-of-type {\n",
       "        vertical-align: middle;\n",
       "    }\n",
       "\n",
       "    .dataframe tbody tr th {\n",
       "        vertical-align: top;\n",
       "    }\n",
       "\n",
       "    .dataframe thead th {\n",
       "        text-align: right;\n",
       "    }\n",
       "</style>\n",
       "<table border=\"1\" class=\"dataframe\">\n",
       "  <thead>\n",
       "    <tr style=\"text-align: right;\">\n",
       "      <th></th>\n",
       "      <th>artists</th>\n",
       "      <th>genres</th>\n",
       "    </tr>\n",
       "  </thead>\n",
       "  <tbody>\n",
       "    <tr>\n",
       "      <th>19996</th>\n",
       "      <td>Res Fischer</td>\n",
       "      <td>[]</td>\n",
       "    </tr>\n",
       "    <tr>\n",
       "      <th>9885</th>\n",
       "      <td>Henry Jamison</td>\n",
       "      <td>['indie anthem-folk', 'indie folk', 'neo mello...</td>\n",
       "    </tr>\n",
       "    <tr>\n",
       "      <th>16411</th>\n",
       "      <td>Mighty High Coup</td>\n",
       "      <td>[]</td>\n",
       "    </tr>\n",
       "  </tbody>\n",
       "</table>\n",
       "</div>"
      ],
      "text/plain": [
       "                artists                                             genres\n",
       "19996       Res Fischer                                                 []\n",
       "9885      Henry Jamison  ['indie anthem-folk', 'indie folk', 'neo mello...\n",
       "16411  Mighty High Coup                                                 []"
      ]
     },
     "execution_count": 219,
     "metadata": {},
     "output_type": "execute_result"
    }
   ],
   "source": [
    "# drop irrelevant features\n",
    "df_genre = df_genre[['artists', 'genres']]\n",
    "df_genre.sample(3)"
   ]
  },
  {
   "cell_type": "code",
   "execution_count": 220,
   "metadata": {},
   "outputs": [],
   "source": [
    "# unpack lists in the Artists column, retain the first artist of the list\n",
    "df['artists'] = df['artists'].str.slice(1,-1).str.split(',')\n",
    "df['artists'] = df['artists'].map(lambda x: x[0])\n",
    "df['artists'] = df['artists'].str.slice(1,-1)"
   ]
  },
  {
   "cell_type": "code",
   "execution_count": 221,
   "metadata": {
    "scrolled": false
   },
   "outputs": [
    {
     "data": {
      "text/html": [
       "<div>\n",
       "<style scoped>\n",
       "    .dataframe tbody tr th:only-of-type {\n",
       "        vertical-align: middle;\n",
       "    }\n",
       "\n",
       "    .dataframe tbody tr th {\n",
       "        vertical-align: top;\n",
       "    }\n",
       "\n",
       "    .dataframe thead th {\n",
       "        text-align: right;\n",
       "    }\n",
       "</style>\n",
       "<table border=\"1\" class=\"dataframe\">\n",
       "  <thead>\n",
       "    <tr style=\"text-align: right;\">\n",
       "      <th></th>\n",
       "      <th>acousticness</th>\n",
       "      <th>artists</th>\n",
       "      <th>danceability</th>\n",
       "      <th>duration_ms</th>\n",
       "      <th>energy</th>\n",
       "      <th>explicit</th>\n",
       "      <th>id</th>\n",
       "      <th>instrumentalness</th>\n",
       "      <th>key</th>\n",
       "      <th>liveness</th>\n",
       "      <th>loudness</th>\n",
       "      <th>mode</th>\n",
       "      <th>name</th>\n",
       "      <th>popularity</th>\n",
       "      <th>release_date</th>\n",
       "      <th>speechiness</th>\n",
       "      <th>tempo</th>\n",
       "      <th>valence</th>\n",
       "      <th>year</th>\n",
       "      <th>genres</th>\n",
       "    </tr>\n",
       "  </thead>\n",
       "  <tbody>\n",
       "    <tr>\n",
       "      <th>156161</th>\n",
       "      <td>0.005130</td>\n",
       "      <td>Buffalo Tom</td>\n",
       "      <td>0.303</td>\n",
       "      <td>224840</td>\n",
       "      <td>0.862</td>\n",
       "      <td>0</td>\n",
       "      <td>6nncZzBlYV9wXkkjZBzVWD</td>\n",
       "      <td>0.000000</td>\n",
       "      <td>4</td>\n",
       "      <td>0.0874</td>\n",
       "      <td>-8.539</td>\n",
       "      <td>0</td>\n",
       "      <td>Taillights Fade</td>\n",
       "      <td>38</td>\n",
       "      <td>1992</td>\n",
       "      <td>0.0511</td>\n",
       "      <td>85.562</td>\n",
       "      <td>0.279</td>\n",
       "      <td>1992</td>\n",
       "      <td>['alternative pop', 'alternative rock', 'bosto...</td>\n",
       "    </tr>\n",
       "    <tr>\n",
       "      <th>82328</th>\n",
       "      <td>0.000573</td>\n",
       "      <td>George Michael</td>\n",
       "      <td>0.748</td>\n",
       "      <td>288067</td>\n",
       "      <td>0.564</td>\n",
       "      <td>0</td>\n",
       "      <td>2hn7TTNtOX7iMF0vUIhwc3</td>\n",
       "      <td>0.300000</td>\n",
       "      <td>10</td>\n",
       "      <td>0.0554</td>\n",
       "      <td>-11.041</td>\n",
       "      <td>0</td>\n",
       "      <td>Hard Day - Remastered</td>\n",
       "      <td>33</td>\n",
       "      <td>1987-10-30</td>\n",
       "      <td>0.0740</td>\n",
       "      <td>95.511</td>\n",
       "      <td>0.212</td>\n",
       "      <td>1987</td>\n",
       "      <td>['dance rock', 'new wave pop', 'soft rock']</td>\n",
       "    </tr>\n",
       "    <tr>\n",
       "      <th>87084</th>\n",
       "      <td>0.036200</td>\n",
       "      <td>Rage Against The Machine</td>\n",
       "      <td>0.404</td>\n",
       "      <td>309173</td>\n",
       "      <td>0.834</td>\n",
       "      <td>1</td>\n",
       "      <td>4rEPAJKYF5FuCN62NIYPOU</td>\n",
       "      <td>0.000147</td>\n",
       "      <td>4</td>\n",
       "      <td>0.4910</td>\n",
       "      <td>-5.965</td>\n",
       "      <td>1</td>\n",
       "      <td>Bullet In The Head - Demo</td>\n",
       "      <td>38</td>\n",
       "      <td>1992</td>\n",
       "      <td>0.1180</td>\n",
       "      <td>165.909</td>\n",
       "      <td>0.545</td>\n",
       "      <td>1992</td>\n",
       "      <td>['alternative metal', 'alternative rock', 'con...</td>\n",
       "    </tr>\n",
       "  </tbody>\n",
       "</table>\n",
       "</div>"
      ],
      "text/plain": [
       "        acousticness                   artists  danceability  duration_ms  \\\n",
       "156161      0.005130               Buffalo Tom         0.303       224840   \n",
       "82328       0.000573            George Michael         0.748       288067   \n",
       "87084       0.036200  Rage Against The Machine         0.404       309173   \n",
       "\n",
       "        energy  explicit                      id  instrumentalness  key  \\\n",
       "156161   0.862         0  6nncZzBlYV9wXkkjZBzVWD          0.000000    4   \n",
       "82328    0.564         0  2hn7TTNtOX7iMF0vUIhwc3          0.300000   10   \n",
       "87084    0.834         1  4rEPAJKYF5FuCN62NIYPOU          0.000147    4   \n",
       "\n",
       "        liveness  loudness  mode                       name  popularity  \\\n",
       "156161    0.0874    -8.539     0            Taillights Fade          38   \n",
       "82328     0.0554   -11.041     0      Hard Day - Remastered          33   \n",
       "87084     0.4910    -5.965     1  Bullet In The Head - Demo          38   \n",
       "\n",
       "       release_date  speechiness    tempo  valence  year  \\\n",
       "156161         1992       0.0511   85.562    0.279  1992   \n",
       "82328    1987-10-30       0.0740   95.511    0.212  1987   \n",
       "87084          1992       0.1180  165.909    0.545  1992   \n",
       "\n",
       "                                                   genres  \n",
       "156161  ['alternative pop', 'alternative rock', 'bosto...  \n",
       "82328         ['dance rock', 'new wave pop', 'soft rock']  \n",
       "87084   ['alternative metal', 'alternative rock', 'con...  "
      ]
     },
     "execution_count": 221,
     "metadata": {},
     "output_type": "execute_result"
    }
   ],
   "source": [
    "# Join together datasets on artist name\n",
    "merged =df.merge(df_genre, on='artists')\n",
    "\n",
    "# Keep rows within 'rock' genre\n",
    "rock_df =merged[merged['genres'].str.contains('rock')]\n",
    "rock_df.sample(3)"
   ]
  },
  {
   "cell_type": "code",
   "execution_count": 222,
   "metadata": {},
   "outputs": [
    {
     "name": "stderr",
     "output_type": "stream",
     "text": [
      "/Users/Khyatee/anaconda3/envs/learn-env/lib/python3.6/site-packages/ipykernel_launcher.py:8: SettingWithCopyWarning: \n",
      "A value is trying to be set on a copy of a slice from a DataFrame.\n",
      "Try using .loc[row_indexer,col_indexer] = value instead\n",
      "\n",
      "See the caveats in the documentation: https://pandas.pydata.org/pandas-docs/stable/user_guide/indexing.html#returning-a-view-versus-a-copy\n",
      "  \n"
     ]
    }
   ],
   "source": [
    "# Create target variable based on year ranges\n",
    "conditions = [\n",
    "    (rock_df['year'] >=1950) & (rock_df['year'] <1970),\n",
    "    (rock_df['year'] >=1970) & (rock_df['year'] <1990),\n",
    "    (rock_df['year'] >=1990) & (rock_df['year'] <2010)]\n",
    "choices = [\n",
    "    '50s/60s', '70s/80s', '90s/2000s']\n",
    "rock_df['era'] = np.select(conditions, choices, default='NA')"
   ]
  },
  {
   "cell_type": "code",
   "execution_count": 223,
   "metadata": {},
   "outputs": [],
   "source": [
    "# drop rows with dates outside the relevant ranges\n",
    "rock_df = rock_df[rock_df['era'] !='NA']\n",
    "\n",
    "# drop irrelevant features\n",
    "rock_df.drop(['artists', 'id', 'name', 'release_date', 'genres', 'year'], axis=1, inplace=True)"
   ]
  },
  {
   "cell_type": "code",
   "execution_count": 268,
   "metadata": {},
   "outputs": [],
   "source": [
    "y = rock_df['era']\n",
    "X = rock_df.drop(['era'], axis=1)"
   ]
  },
  {
   "cell_type": "code",
   "execution_count": 231,
   "metadata": {},
   "outputs": [
    {
     "data": {
      "text/plain": [
       "70s/80s      25392\n",
       "90s/2000s    15530\n",
       "50s/60s       9574\n",
       "Name: era, dtype: int64"
      ]
     },
     "execution_count": 231,
     "metadata": {},
     "output_type": "execute_result"
    }
   ],
   "source": [
    "# check class imbalance of target\n",
    "y.value_counts()"
   ]
  },
  {
   "cell_type": "markdown",
   "metadata": {},
   "source": [
    "### Impute Outliers"
   ]
  },
  {
   "cell_type": "code",
   "execution_count": 270,
   "metadata": {},
   "outputs": [
    {
     "data": {
      "image/png": "[encoded data removed]",
      "text/plain": [
       "<Figure size 432x288 with 1 Axes>"
      ]
     },
     "metadata": {
      "needs_background": "light"
     },
     "output_type": "display_data"
    }
   ],
   "source": [
    "# Bring outliers down/up to 5 standard deviations from the mean\n",
    "for feat in X:\n",
    "    abv_5_std = X[feat].mean()+ 5*X[feat].std()\n",
    "    below_5_std = X[feat].mean()- 5*X[feat].std()\n",
    "    conditions = [X[feat]>abv_5_std, X[feat]<below_5_std]\n",
    "    choices = [abv_5_std, below_5_std]\n",
    "    X[feat] = np.select(conditions, choices, X[feat])\n",
    "\n",
    "plt.boxplot(X.duration_ms);"
   ]
  },
  {
   "cell_type": "markdown",
   "metadata": {},
   "source": [
    "# EDA"
   ]
  },
  {
   "cell_type": "code",
   "execution_count": null,
   "metadata": {},
   "outputs": [],
   "source": []
  },
  {
   "cell_type": "code",
   "execution_count": null,
   "metadata": {},
   "outputs": [],
   "source": []
  },
  {
   "cell_type": "markdown",
   "metadata": {},
   "source": [
    "# Feature Engineering"
   ]
  },
  {
   "cell_type": "code",
   "execution_count": null,
   "metadata": {},
   "outputs": [],
   "source": []
  },
  {
   "cell_type": "markdown",
   "metadata": {},
   "source": [
    "# Preliminary Modeling"
   ]
  },
  {
   "cell_type": "code",
   "execution_count": null,
   "metadata": {},
   "outputs": [],
   "source": []
  },
  {
   "cell_type": "code",
   "execution_count": null,
   "metadata": {},
   "outputs": [],
   "source": []
  },
  {
   "cell_type": "markdown",
   "metadata": {},
   "source": [
    "# Hyperparameter Tuning"
   ]
  },
  {
   "cell_type": "code",
   "execution_count": null,
   "metadata": {},
   "outputs": [],
   "source": []
  },
  {
   "cell_type": "code",
   "execution_count": null,
   "metadata": {},
   "outputs": [],
   "source": []
  },
  {
   "cell_type": "markdown",
   "metadata": {},
   "source": [
    "# Model Evaluation"
   ]
  },
  {
   "cell_type": "code",
   "execution_count": null,
   "metadata": {},
   "outputs": [],
   "source": []
  },
  {
   "cell_type": "code",
   "execution_count": null,
   "metadata": {},
   "outputs": [],
   "source": []
  },
  {
   "cell_type": "markdown",
   "metadata": {},
   "source": [
    "# Final Model & Conclusion"
   ]
  },
  {
   "cell_type": "code",
   "execution_count": null,
   "metadata": {},
   "outputs": [],
   "source": []
  }
 ],
 "metadata": {
  "kernelspec": {
   "display_name": "Python 3",
   "language": "python",
   "name": "python3"
  },
  "language_info": {
   "codemirror_mode": {
    "name": "ipython",
    "version": 3
   },
   "file_extension": ".py",
   "mimetype": "text/x-python",
   "name": "python",
   "nbconvert_exporter": "python",
   "pygments_lexer": "ipython3",
   "version": "3.6.9"
  }
 },
 "nbformat": 4,
 "nbformat_minor": 4
}
