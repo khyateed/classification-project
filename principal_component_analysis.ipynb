{
 "cells": [
  {
   "cell_type": "markdown",
   "metadata": {},
   "source": [
    "# PCA of Spotify Dataset\n",
    "Looking at the primary two components of the Spotify dataset used in the project"
   ]
  },
  {
   "cell_type": "code",
   "execution_count": 24,
   "metadata": {},
   "outputs": [],
   "source": [
    "from sklearn.preprocessing import StandardScaler\n",
    "import pandas as pd\n",
    "import numpy as np\n",
    "import matplotlib.pyplot as plt\n",
    "from sklearn.decomposition import PCA\n",
    "from zipfile import ZipFile "
   ]
  },
  {
   "cell_type": "code",
   "execution_count": 25,
   "metadata": {},
   "outputs": [],
   "source": [
    "with ZipFile(\"data/datasets.zip\") as z:\n",
    "    df = pd.read_csv(z.open(z.infolist()[0].filename))\n",
    "#     df_artist = pd.read_csv(z.open(z.infolist()[1].filename))\n",
    "#     df_avg_genre = pd.read_csv(z.open(z.infolist()[2].filename))\n",
    "#     df_yr = pd.read_csv(z.open(z.infolist()[3].filename))\n",
    "    df_genre = pd.read_csv(z.open(z.infolist()[4].filename))"
   ]
  },
  {
   "cell_type": "code",
   "execution_count": 50,
   "metadata": {},
   "outputs": [],
   "source": [
    "df_genre = df_genre[['artists', 'genres']]\n",
    "\n",
    "# unpack lists in the Artists column, retain the first artist of the list\n",
    "df['artists'] = df['artists'].str.slice(1,-1).str.split(',')\n",
    "df['artists'] = df['artists'].map(lambda x: x[0])\n",
    "df['artists'] = df['artists'].str.slice(1,-1)\n",
    "\n",
    "merged =df.merge(df_genre, on='artists')\n",
    "# Keep rows within 'rock' genre\n",
    "rock_df =merged[merged['genres'].str.contains('rock')]"
   ]
  },
  {
   "cell_type": "code",
   "execution_count": 27,
   "metadata": {},
   "outputs": [
    {
     "name": "stderr",
     "output_type": "stream",
     "text": [
      "/Users/Khyatee/anaconda3/envs/learn-env/lib/python3.6/site-packages/pandas/core/frame.py:4169: SettingWithCopyWarning: \n",
      "A value is trying to be set on a copy of a slice from a DataFrame\n",
      "\n",
      "See the caveats in the documentation: https://pandas.pydata.org/pandas-docs/stable/user_guide/indexing.html#returning-a-view-versus-a-copy\n",
      "  errors=errors,\n"
     ]
    }
   ],
   "source": [
    "# drop irrelevant features\n",
    "rock_df.drop(['artists', 'id', 'name', 'release_date', 'genres', 'year', 'explicit', 'mode', 'key'], axis=1, inplace=True)"
   ]
  },
  {
   "cell_type": "code",
   "execution_count": 28,
   "metadata": {},
   "outputs": [
    {
     "data": {
      "text/html": [
       "<div>\n",
       "<style scoped>\n",
       "    .dataframe tbody tr th:only-of-type {\n",
       "        vertical-align: middle;\n",
       "    }\n",
       "\n",
       "    .dataframe tbody tr th {\n",
       "        vertical-align: top;\n",
       "    }\n",
       "\n",
       "    .dataframe thead th {\n",
       "        text-align: right;\n",
       "    }\n",
       "</style>\n",
       "<table border=\"1\" class=\"dataframe\">\n",
       "  <thead>\n",
       "    <tr style=\"text-align: right;\">\n",
       "      <th></th>\n",
       "      <th>acousticness</th>\n",
       "      <th>danceability</th>\n",
       "      <th>duration_ms</th>\n",
       "      <th>energy</th>\n",
       "      <th>instrumentalness</th>\n",
       "      <th>liveness</th>\n",
       "      <th>loudness</th>\n",
       "      <th>popularity</th>\n",
       "      <th>speechiness</th>\n",
       "      <th>tempo</th>\n",
       "      <th>valence</th>\n",
       "    </tr>\n",
       "  </thead>\n",
       "  <tbody>\n",
       "    <tr>\n",
       "      <th>5969</th>\n",
       "      <td>0.872000</td>\n",
       "      <td>0.571</td>\n",
       "      <td>155893</td>\n",
       "      <td>0.204</td>\n",
       "      <td>0.779000</td>\n",
       "      <td>0.1970</td>\n",
       "      <td>-18.610</td>\n",
       "      <td>0</td>\n",
       "      <td>0.0328</td>\n",
       "      <td>129.289</td>\n",
       "      <td>0.0932</td>\n",
       "    </tr>\n",
       "    <tr>\n",
       "      <th>5970</th>\n",
       "      <td>0.576000</td>\n",
       "      <td>0.859</td>\n",
       "      <td>223373</td>\n",
       "      <td>0.407</td>\n",
       "      <td>0.000000</td>\n",
       "      <td>0.1430</td>\n",
       "      <td>-15.889</td>\n",
       "      <td>28</td>\n",
       "      <td>0.0762</td>\n",
       "      <td>106.008</td>\n",
       "      <td>0.9250</td>\n",
       "    </tr>\n",
       "    <tr>\n",
       "      <th>5971</th>\n",
       "      <td>0.698000</td>\n",
       "      <td>0.670</td>\n",
       "      <td>256000</td>\n",
       "      <td>0.281</td>\n",
       "      <td>0.000029</td>\n",
       "      <td>0.0875</td>\n",
       "      <td>-16.884</td>\n",
       "      <td>30</td>\n",
       "      <td>0.1160</td>\n",
       "      <td>134.335</td>\n",
       "      <td>0.3480</td>\n",
       "    </tr>\n",
       "    <tr>\n",
       "      <th>5972</th>\n",
       "      <td>0.102000</td>\n",
       "      <td>0.655</td>\n",
       "      <td>179093</td>\n",
       "      <td>0.690</td>\n",
       "      <td>0.000118</td>\n",
       "      <td>0.1150</td>\n",
       "      <td>-12.698</td>\n",
       "      <td>30</td>\n",
       "      <td>0.0370</td>\n",
       "      <td>156.482</td>\n",
       "      <td>0.9610</td>\n",
       "    </tr>\n",
       "    <tr>\n",
       "      <th>5973</th>\n",
       "      <td>0.128000</td>\n",
       "      <td>0.534</td>\n",
       "      <td>217173</td>\n",
       "      <td>0.439</td>\n",
       "      <td>0.003500</td>\n",
       "      <td>0.3340</td>\n",
       "      <td>-12.115</td>\n",
       "      <td>22</td>\n",
       "      <td>0.1310</td>\n",
       "      <td>82.863</td>\n",
       "      <td>0.6060</td>\n",
       "    </tr>\n",
       "    <tr>\n",
       "      <th>...</th>\n",
       "      <td>...</td>\n",
       "      <td>...</td>\n",
       "      <td>...</td>\n",
       "      <td>...</td>\n",
       "      <td>...</td>\n",
       "      <td>...</td>\n",
       "      <td>...</td>\n",
       "      <td>...</td>\n",
       "      <td>...</td>\n",
       "      <td>...</td>\n",
       "      <td>...</td>\n",
       "    </tr>\n",
       "    <tr>\n",
       "      <th>169045</th>\n",
       "      <td>0.927000</td>\n",
       "      <td>0.535</td>\n",
       "      <td>161472</td>\n",
       "      <td>0.234</td>\n",
       "      <td>0.565000</td>\n",
       "      <td>0.0937</td>\n",
       "      <td>-16.826</td>\n",
       "      <td>54</td>\n",
       "      <td>0.0448</td>\n",
       "      <td>182.078</td>\n",
       "      <td>0.5610</td>\n",
       "    </tr>\n",
       "    <tr>\n",
       "      <th>169047</th>\n",
       "      <td>0.182000</td>\n",
       "      <td>0.519</td>\n",
       "      <td>224714</td>\n",
       "      <td>0.809</td>\n",
       "      <td>0.510000</td>\n",
       "      <td>0.0951</td>\n",
       "      <td>-6.074</td>\n",
       "      <td>57</td>\n",
       "      <td>0.0646</td>\n",
       "      <td>111.986</td>\n",
       "      <td>0.2840</td>\n",
       "    </tr>\n",
       "    <tr>\n",
       "      <th>169049</th>\n",
       "      <td>0.010400</td>\n",
       "      <td>0.570</td>\n",
       "      <td>233173</td>\n",
       "      <td>0.803</td>\n",
       "      <td>0.000351</td>\n",
       "      <td>0.0945</td>\n",
       "      <td>-6.290</td>\n",
       "      <td>55</td>\n",
       "      <td>0.0280</td>\n",
       "      <td>110.767</td>\n",
       "      <td>0.6080</td>\n",
       "    </tr>\n",
       "    <tr>\n",
       "      <th>169050</th>\n",
       "      <td>0.000559</td>\n",
       "      <td>0.519</td>\n",
       "      <td>240640</td>\n",
       "      <td>0.724</td>\n",
       "      <td>0.000370</td>\n",
       "      <td>0.1200</td>\n",
       "      <td>-7.301</td>\n",
       "      <td>56</td>\n",
       "      <td>0.0303</td>\n",
       "      <td>135.051</td>\n",
       "      <td>0.4670</td>\n",
       "    </tr>\n",
       "    <tr>\n",
       "      <th>169068</th>\n",
       "      <td>0.081000</td>\n",
       "      <td>0.490</td>\n",
       "      <td>217626</td>\n",
       "      <td>0.753</td>\n",
       "      <td>0.000003</td>\n",
       "      <td>0.2680</td>\n",
       "      <td>-5.410</td>\n",
       "      <td>66</td>\n",
       "      <td>0.2390</td>\n",
       "      <td>156.241</td>\n",
       "      <td>0.3250</td>\n",
       "    </tr>\n",
       "  </tbody>\n",
       "</table>\n",
       "<p>55303 rows × 11 columns</p>\n",
       "</div>"
      ],
      "text/plain": [
       "        acousticness  danceability  duration_ms  energy  instrumentalness  \\\n",
       "5969        0.872000         0.571       155893   0.204          0.779000   \n",
       "5970        0.576000         0.859       223373   0.407          0.000000   \n",
       "5971        0.698000         0.670       256000   0.281          0.000029   \n",
       "5972        0.102000         0.655       179093   0.690          0.000118   \n",
       "5973        0.128000         0.534       217173   0.439          0.003500   \n",
       "...              ...           ...          ...     ...               ...   \n",
       "169045      0.927000         0.535       161472   0.234          0.565000   \n",
       "169047      0.182000         0.519       224714   0.809          0.510000   \n",
       "169049      0.010400         0.570       233173   0.803          0.000351   \n",
       "169050      0.000559         0.519       240640   0.724          0.000370   \n",
       "169068      0.081000         0.490       217626   0.753          0.000003   \n",
       "\n",
       "        liveness  loudness  popularity  speechiness    tempo  valence  \n",
       "5969      0.1970   -18.610           0       0.0328  129.289   0.0932  \n",
       "5970      0.1430   -15.889          28       0.0762  106.008   0.9250  \n",
       "5971      0.0875   -16.884          30       0.1160  134.335   0.3480  \n",
       "5972      0.1150   -12.698          30       0.0370  156.482   0.9610  \n",
       "5973      0.3340   -12.115          22       0.1310   82.863   0.6060  \n",
       "...          ...       ...         ...          ...      ...      ...  \n",
       "169045    0.0937   -16.826          54       0.0448  182.078   0.5610  \n",
       "169047    0.0951    -6.074          57       0.0646  111.986   0.2840  \n",
       "169049    0.0945    -6.290          55       0.0280  110.767   0.6080  \n",
       "169050    0.1200    -7.301          56       0.0303  135.051   0.4670  \n",
       "169068    0.2680    -5.410          66       0.2390  156.241   0.3250  \n",
       "\n",
       "[55303 rows x 11 columns]"
      ]
     },
     "execution_count": 28,
     "metadata": {},
     "output_type": "execute_result"
    }
   ],
   "source": [
    "rock_df"
   ]
  },
  {
   "cell_type": "code",
   "execution_count": 29,
   "metadata": {},
   "outputs": [
    {
     "data": {
      "text/plain": [
       "array([[ 1.86682756,  0.29840607, -0.84258091, ..., -0.42921716,\n",
       "         0.24774001, -1.85355362],\n",
       "       [ 0.89894013,  2.21166848, -0.13831107, ...,  0.3612258 ,\n",
       "        -0.5571242 ,  1.49202362],\n",
       "       [ 1.29786671,  0.95609002,  0.20220779, ...,  1.08610207,\n",
       "         0.4221889 , -0.82872423],\n",
       "       ...,\n",
       "       [-0.95050964,  0.29176279, -0.03603121, ..., -0.51663943,\n",
       "        -0.39259739,  0.21702003],\n",
       "       [-0.98268863, -0.04704409,  0.04189977, ..., -0.47474959,\n",
       "         0.44694225, -0.35009513],\n",
       "       [-0.71965541, -0.23969899, -0.19829089, ...,  3.32629757,\n",
       "         1.179517  , -0.92123238]])"
      ]
     },
     "execution_count": 29,
     "metadata": {},
     "output_type": "execute_result"
    }
   ],
   "source": [
    "# Standardize the Data\n",
    "x = StandardScaler().fit_transform(rock_df)\n",
    "x"
   ]
  },
  {
   "cell_type": "code",
   "execution_count": 31,
   "metadata": {},
   "outputs": [],
   "source": [
    "# Instantiate PCA\n",
    "pca = PCA()\n",
    "principalComponents = pca.fit_transform(x)\n",
    "principalDf = pd.DataFrame(data = principalComponents, columns = ['principal component 1', 'principal component 2',\n",
    "                                                                 'principal component 3','principal component 4',\n",
    "                                                                 'principal component 5','principal component 6',\n",
    "                                                                  'pricipal component 7', 'pricipal component 8',\n",
    "                                                                 'pricipal component 9', 'pricipal component 10',\n",
    "                                                                 'pricipal component 11'])"
   ]
  },
  {
   "cell_type": "code",
   "execution_count": 47,
   "metadata": {
    "scrolled": false
   },
   "outputs": [
    {
     "data": {
      "text/plain": [
       "array([0.23651088, 0.15996502, 0.11422631, 0.09197461, 0.09069164,\n",
       "       0.0812919 , 0.07338232, 0.06404606, 0.04117173, 0.03352615,\n",
       "       0.01321337])"
      ]
     },
     "execution_count": 47,
     "metadata": {},
     "output_type": "execute_result"
    }
   ],
   "source": [
    "# percent of variance explained by each PCA\n",
    "pca.explained_variance_ratio_"
   ]
  },
  {
   "cell_type": "code",
   "execution_count": 48,
   "metadata": {
    "scrolled": true
   },
   "outputs": [
    {
     "data": {
      "text/plain": [
       "array([2.60166675, 1.75964704, 1.25651214, 1.01173905, 0.9976261 ,\n",
       "       0.89422706, 0.80722011, 0.70451944, 0.45289721, 0.36879434,\n",
       "       0.14534965])"
      ]
     },
     "execution_count": 48,
     "metadata": {},
     "output_type": "execute_result"
    }
   ],
   "source": [
    "# variance explained by each PCA\n",
    "pca.explained_variance_"
   ]
  },
  {
   "cell_type": "code",
   "execution_count": 36,
   "metadata": {},
   "outputs": [
    {
     "data": {
      "image/png": "[encoded data removed]",
      "text/plain": [
       "<Figure size 432x288 with 1 Axes>"
      ]
     },
     "metadata": {
      "needs_background": "light"
     },
     "output_type": "display_data"
    }
   ],
   "source": [
    "index = np.arange(11)\n",
    "plt.bar(index, pca.explained_variance_ratio_);\n",
    "plt.title('Scree plot for PCA');\n",
    "plt.xlabel('Num of components');\n",
    "plt.ylabel('proportion of explained variance');"
   ]
  },
  {
   "cell_type": "code",
   "execution_count": 38,
   "metadata": {},
   "outputs": [
    {
     "data": {
      "text/plain": [
       "[(0.494897398870004, 'acousticness'),\n",
       " (-0.005499064960766131, 'danceability'),\n",
       " (-0.0685259434996188, 'duration_ms'),\n",
       " (-0.5712815935176718, 'energy'),\n",
       " (0.049816370302982166, 'instrumentalness'),\n",
       " (-0.10343840630243312, 'liveness'),\n",
       " (-0.5189797165426626, 'loudness'),\n",
       " (-0.2360649061929458, 'popularity'),\n",
       " (-0.12968903540885415, 'speechiness'),\n",
       " (-0.20086770426966566, 'tempo'),\n",
       " (-0.169035557089845, 'valence')]"
      ]
     },
     "execution_count": 38,
     "metadata": {},
     "output_type": "execute_result"
    }
   ],
   "source": [
    "# look at first PC\n",
    "pc1 = pca.components_[0]\n",
    "pc2 = pca.components_[1]\n",
    "list(zip(pc1, rock_df.columns))"
   ]
  },
  {
   "cell_type": "code",
   "execution_count": 45,
   "metadata": {},
   "outputs": [
    {
     "data": {
      "text/plain": [
       "[(-0.06544128090065902, 'acousticness'),\n",
       " (-0.6009126242192172, 'danceability'),\n",
       " (0.4032645710377336, 'duration_ms'),\n",
       " (0.007045946444232731, 'energy'),\n",
       " (0.2577920715675768, 'instrumentalness'),\n",
       " (0.2548649212813049, 'liveness'),\n",
       " (-0.030963505314313244, 'loudness'),\n",
       " (0.027000951138425794, 'popularity'),\n",
       " (0.08205997654570868, 'speechiness'),\n",
       " (0.10277270128988297, 'tempo'),\n",
       " (-0.5670562221022281, 'valence')]"
      ]
     },
     "execution_count": 45,
     "metadata": {},
     "output_type": "execute_result"
    }
   ],
   "source": [
    "# Look at second PC\n",
    "list(zip(pc2, rock_df.columns))"
   ]
  },
  {
   "cell_type": "markdown",
   "metadata": {},
   "source": [
    "### Eigen Values & Loadings PC1\n",
    "**Interpretation:** acousticness, energy, and loudness have strong relationships with PC1, indicating that they have a higher impact on variability than the other features. Acousticness and Instrumentalness are positively correlated with PC1, while the rest of the features have a negative correlation with PC1.<br>\n",
    "**Name:** Chill Beats"
   ]
  },
  {
   "cell_type": "code",
   "execution_count": 49,
   "metadata": {},
   "outputs": [
    {
     "data": {
      "text/plain": [
       "acousticness        0.798254\n",
       "instrumentalness    0.080352\n",
       "danceability       -0.008870\n",
       "duration_ms        -0.110530\n",
       "liveness           -0.166843\n",
       "speechiness        -0.209184\n",
       "valence            -0.272649\n",
       "tempo              -0.323993\n",
       "popularity         -0.380765\n",
       "loudness           -0.837098\n",
       "energy             -0.921459\n",
       "dtype: float64"
      ]
     },
     "execution_count": 49,
     "metadata": {},
     "output_type": "execute_result"
    }
   ],
   "source": [
    "# eigen values\n",
    "eig_values = pca.explained_variance_\n",
    "\n",
    "# get the loadings for PC1\n",
    "structure_loading_1 = pc1* np.sqrt(eig_values[0])\n",
    "str_loading_1 = pd.Series(structure_loading_1, index=rock_df.columns)\n",
    "str_loading_1.sort_values(ascending=False)"
   ]
  },
  {
   "cell_type": "markdown",
   "metadata": {},
   "source": [
    "### Eigen Values & Loadings PC2\n",
    "**Interpretation:** Duration, valence, and danceability have strong relationships with PC2, indicating that they have a higher impact on variability than the other features. Loudness, acousticness, valence, and danceability are negatively correlated with PC1, while the rest of the features have a positive correlation with PC2.<br>\n",
    "**Name** Music 2 Cry to"
   ]
  },
  {
   "cell_type": "code",
   "execution_count": 44,
   "metadata": {},
   "outputs": [
    {
     "data": {
      "text/plain": [
       "duration_ms         0.534937\n",
       "instrumentalness    0.341966\n",
       "liveness            0.338083\n",
       "tempo               0.136330\n",
       "speechiness         0.108854\n",
       "popularity          0.035817\n",
       "energy              0.009347\n",
       "loudness           -0.041074\n",
       "acousticness       -0.086809\n",
       "valence            -0.752210\n",
       "danceability       -0.797121\n",
       "dtype: float64"
      ]
     },
     "execution_count": 44,
     "metadata": {},
     "output_type": "execute_result"
    }
   ],
   "source": [
    "# get the loadings for PC2\n",
    "structure_loading_2 = pc2* np.sqrt(eig_values[1])\n",
    "str_loading_2 = pd.Series(structure_loading_2, index=rock_df.columns)\n",
    "str_loading_2.sort_values(ascending=False)"
   ]
  },
  {
   "cell_type": "code",
   "execution_count": null,
   "metadata": {},
   "outputs": [],
   "source": []
  }
 ],
 "metadata": {
  "kernelspec": {
   "display_name": "Python 3",
   "language": "python",
   "name": "python3"
  },
  "language_info": {
   "codemirror_mode": {
    "name": "ipython",
    "version": 3
   },
   "file_extension": ".py",
   "mimetype": "text/x-python",
   "name": "python",
   "nbconvert_exporter": "python",
   "pygments_lexer": "ipython3",
   "version": "3.6.9"
  }
 },
 "nbformat": 4,
 "nbformat_minor": 4
}
